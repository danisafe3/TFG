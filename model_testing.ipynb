{
 "cells": [
  {
   "cell_type": "markdown",
   "id": "c13716e3",
   "metadata": {},
   "source": [
    "\n",
    "\n",
    "# Model testing\n",
    "In order to test the model we need to find the Region of Interest (ROI), perform the segmentation and then compare the inference with the ground truth in the ROI."
   ]
  },
  {
   "cell_type": "code",
   "execution_count": 50,
   "id": "b3bba33d",
   "metadata": {},
   "outputs": [],
   "source": [
    "def find_ROI(mask):\n",
    "    \n",
    "    min_i = mask.shape[0]\n",
    "    max_i = 0\n",
    "\n",
    "    min_j = mask.shape[1]\n",
    "    max_j = 0\n",
    "\n",
    "    for i in range(mask.shape[0]):\n",
    "        for j in range(mask.shape[1]):\n",
    "            if mask[i,j]:\n",
    "                if min_i > i:\n",
    "                    min_i = i\n",
    "                if min_j > j:\n",
    "                    min_j = j\n",
    "                if max_i < i:\n",
    "                    max_i = i\n",
    "                if max_j < j:\n",
    "                    max_j = j\n",
    "                    \n",
    "    return(min_i-15, max_i+15, min_j-15, max_j+15)"
   ]
  },
  {
   "cell_type": "code",
   "execution_count": 51,
   "id": "35e2c6aa",
   "metadata": {},
   "outputs": [],
   "source": [
    "def dice_coef(y_true, y_pred):\n",
    "    volume_sum = y_true.sum() + y_pred.sum()\n",
    "    if volume_sum == 0:\n",
    "        return 1.\n",
    "    volume_intersect = (y_true & y_pred).sum()\n",
    "    return 2*volume_intersect / volume_sum"
   ]
  },
  {
   "cell_type": "code",
   "execution_count": 52,
   "id": "aeaddb27",
   "metadata": {},
   "outputs": [],
   "source": [
    "def display(display_list):\n",
    "\n",
    "    plt.figure(figsize=(15,10))\n",
    "\n",
    "    title = ['Input', 'True Mask ROI', 'Predicted Mask ROI']\n",
    "\n",
    "    for i in range(len(display_list)):\n",
    "        plt.subplot(1, len(display_list), i+1)\n",
    "        plt.title(title[i])\n",
    "        plt.imshow(tf.keras.preprocessing.image.array_to_img(display_list[i]), cmap='gray')\n",
    "    \n",
    "    plt.show()"
   ]
  },
  {
   "cell_type": "code",
   "execution_count": 64,
   "id": "d349d214",
   "metadata": {},
   "outputs": [],
   "source": [
    "test_dir = dir + 'Preprocessed/test/'\n",
    "test_dir_img = test_dir + 'img/img/'\n",
    "test_dir_mask = test_dir + 'mask/img/'\n",
    "\n",
    "accuracy = {}\n",
    "\n",
    "image = None\n",
    "mask = None\n",
    "pred = None\n",
    "\n",
    "debug=False\n",
    "\n",
    "model_structure_file = 'UNet_model.json'\n",
    "model_weights_file = 'UNet_weights.h5'\n",
    "\n",
    "json_file = open(model_structure_file, 'r')\n",
    "model_structure = json_file.read()\n",
    "model = keras.models.model_from_json(model_structure)\n",
    "model.load_weights(model_weights_file)"
   ]
  },
  {
   "cell_type": "code",
   "execution_count": 65,
   "id": "25bcb590",
   "metadata": {
    "scrolled": true
   },
   "outputs": [
    {
     "name": "stdout",
     "output_type": "stream",
     "text": [
      "Heart 0: iteration time elapsed 14.698s.\n",
      "Heart 1: iteration time elapsed 14.678s.\n",
      "Heart 2: iteration time elapsed 14.496s.\n",
      "Heart 3: iteration time elapsed 14.299s.\n",
      "Heart 4: iteration time elapsed 14.521s.\n",
      "Heart 5: iteration time elapsed 14.488s.\n",
      "Heart 6: iteration time elapsed 14.231s.\n",
      "Heart 7: iteration time elapsed 14.571s.\n",
      "Heart 8: iteration time elapsed 14.422s.\n",
      "Heart 9: iteration time elapsed 14.244s.\n",
      "Heart 10: iteration time elapsed 16.173s.\n",
      "Heart 11: iteration time elapsed 15.083s.\n",
      "Heart 12: iteration time elapsed 14.679s.\n",
      "Heart 13: iteration time elapsed 14.517s.\n",
      "Heart 14: iteration time elapsed 14.772s.\n",
      "Heart 15: iteration time elapsed 14.444s.\n",
      "Heart 16: iteration time elapsed 14.441s.\n",
      "Heart 17: iteration time elapsed 14.654s.\n",
      "Heart 18: iteration time elapsed 14.468s.\n",
      "Heart 19: iteration time elapsed 14.925s.\n",
      "Heart 20: iteration time elapsed 14.839s.\n",
      "Heart 21: iteration time elapsed 14.772s.\n",
      "Heart 22: iteration time elapsed 15.039s.\n",
      "Heart 23: iteration time elapsed 14.741s.\n",
      "Heart 24: iteration time elapsed 14.809s.\n",
      "Heart 25: iteration time elapsed 14.521s.\n",
      "Heart 26: iteration time elapsed 14.314s.\n",
      "Heart 27: iteration time elapsed 14.459s.\n",
      "Heart 28: iteration time elapsed 15.319s.\n",
      "Heart 29: iteration time elapsed 14.835s.\n",
      "Heart 30: iteration time elapsed 14.891s.\n",
      "Heart 31: iteration time elapsed 14.999s.\n",
      "Heart 32: iteration time elapsed 15.066s.\n",
      "Heart 33: iteration time elapsed 14.958s.\n",
      "Heart 34: iteration time elapsed 15.321s.\n",
      "Heart 35: iteration time elapsed 14.471s.\n",
      "Heart 36: iteration time elapsed 14.561s.\n",
      "Heart 37: iteration time elapsed 14.591s.\n",
      "Heart 38: iteration time elapsed 14.656s.\n",
      "Heart 39: iteration time elapsed 14.490s.\n",
      "Heart 40: iteration time elapsed 14.538s.\n",
      "Heart 41: iteration time elapsed 14.447s.\n",
      "Heart 42: iteration time elapsed 14.850s.\n",
      "Heart 43: iteration time elapsed 14.512s.\n",
      "Heart 44: iteration time elapsed 16.051s.\n",
      "Heart 45: iteration time elapsed 16.554s.\n",
      "Heart 46: iteration time elapsed 14.325s.\n",
      "Heart 47: iteration time elapsed 14.598s.\n",
      "Heart 48: iteration time elapsed 23.884s.\n",
      "Heart 49: iteration time elapsed 19.305s.\n",
      "Heart 50: iteration time elapsed 14.379s.\n",
      "Heart 51: iteration time elapsed 14.336s.\n",
      "Heart 52: iteration time elapsed 14.591s.\n",
      "Heart 53: iteration time elapsed 21.412s.\n",
      "Total: time elapsed 816.247876s\n"
     ]
    }
   ],
   "source": [
    "start = time.time()\n",
    "\n",
    "for heart in range(54):\n",
    "    \n",
    "    ite = time.time()\n",
    "    \n",
    "    accuracy[heart] = {}\n",
    "    \n",
    "    for z in range(88):\n",
    "        \n",
    "        filename_data = f'heart{str(heart).zfill(3)}_{str(z).zfill(2)}_img.png'\n",
    "        image = np.array(Image.open(test_dir_img + filename_data))\n",
    "        \n",
    "        filename_mask = f'heart{str(heart).zfill(3)}_{str(z).zfill(2)}_mask.png'\n",
    "        mask = np.array(Image.open(test_dir_mask + filename_mask))\n",
    "        \n",
    "        min_y, max_y, min_x, max_x = find_ROI(mask)\n",
    "        \n",
    "\n",
    "        image_input = image[np.newaxis, :, :, np.newaxis]\n",
    "        pred = model.predict(image_input)[0,:,:,0] > 0.5\n",
    "        \n",
    "        mask_roi = mask[min_y:max_y, min_x:max_x]>0.5\n",
    "        pred_roi = pred[min_y:max_y, min_x:max_x]\n",
    "        \n",
    "        #print(mask_roi.sum(),pred_roi.sum())\n",
    "        accuracy[heart][z] = dice_coef(mask_roi, pred_roi)\n",
    "        \n",
    "        if debug:\n",
    "            image.resize(image.shape[0], image.shape[1], 1)\n",
    "            mask_roi.resize(mask_roi.shape[0], mask_roi.shape[1], 1)\n",
    "            pred_roi.resize(pred_roi.shape[0], pred_roi.shape[1], 1)\n",
    "    \n",
    "    end = time.time()\n",
    "    \n",
    "    print(f'Heart {heart}: iteration time elapsed {(end - ite):.3f}s.')\n",
    "\n",
    "print(f'Total: time elapsed {(end - start):0f}s')"
   ]
  },
  {
   "cell_type": "code",
   "execution_count": 104,
   "id": "a41b08af",
   "metadata": {
    "scrolled": false
   },
   "outputs": [],
   "source": [
    "accuracy_total = {}\n",
    "accuracy_mean = {}\n",
    "\n",
    "for heart in range(len(accuracy)):\n",
    "    values = np.array(list(accuracy[heart].values()))\n",
    "    accuracy_mean[heart] = values.mean()\n"
   ]
  },
  {
   "cell_type": "code",
   "execution_count": 105,
   "id": "0361a408",
   "metadata": {},
   "outputs": [
    {
     "name": "stdout",
     "output_type": "stream",
     "text": [
      "0.847101924853247\n"
     ]
    }
   ],
   "source": [
    "mean_values = np.array(list(accuracy_mean.values()))\n",
    "total_accuracy_mean = mean_values.mean()\n",
    "print(total_accuracy_mean)\n"
   ]
  },
  {
   "cell_type": "code",
   "execution_count": null,
   "id": "20805088",
   "metadata": {},
   "outputs": [],
   "source": []
  }
 ],
 "metadata": {
  "kernelspec": {
   "display_name": "Python 3",
   "language": "python",
   "name": "python3"
  },
  "language_info": {
   "codemirror_mode": {
    "name": "ipython",
    "version": 3
   },
   "file_extension": ".py",
   "mimetype": "text/x-python",
   "name": "python",
   "nbconvert_exporter": "python",
   "pygments_lexer": "ipython3",
   "version": "3.8.8"
  }
 },
 "nbformat": 4,
 "nbformat_minor": 5
}
